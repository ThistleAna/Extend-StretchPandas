{
 "cells": [
  {
   "cell_type": "markdown",
   "id": "9e7d34a8",
   "metadata": {
    "papermill": {
     "duration": 0.010694,
     "end_time": "2023-03-15T11:48:06.713283",
     "exception": false,
     "start_time": "2023-03-15T11:48:06.702589",
     "status": "completed"
    },
    "tags": []
   },
   "source": [
    "# **This excercise will explore the use of Pandas for a simple data analysis.**"
   ]
  },
  {
   "cell_type": "markdown",
   "id": "9d93c876",
   "metadata": {
    "papermill": {
     "duration": 0.009595,
     "end_time": "2023-03-15T11:48:06.732583",
     "exception": false,
     "start_time": "2023-03-15T11:48:06.722988",
     "status": "completed"
    },
    "tags": []
   },
   "source": [
    "The dataset is not accurate as it is created specifically for this exercise."
   ]
  },
  {
   "cell_type": "code",
   "execution_count": 1,
   "id": "82b56e2a",
   "metadata": {
    "execution": {
     "iopub.execute_input": "2023-03-15T11:48:06.754973Z",
     "iopub.status.busy": "2023-03-15T11:48:06.753496Z",
     "iopub.status.idle": "2023-03-15T11:48:06.781958Z",
     "shell.execute_reply": "2023-03-15T11:48:06.780985Z"
    },
    "papermill": {
     "duration": 0.042647,
     "end_time": "2023-03-15T11:48:06.784809",
     "exception": false,
     "start_time": "2023-03-15T11:48:06.742162",
     "status": "completed"
    },
    "tags": []
   },
   "outputs": [],
   "source": [
    "# import pandas\n",
    "import pandas as pd\n",
    "\n",
    "# loading data into dataframe\n",
    "df = pd.read_csv('/kaggle/input/destination/Destination.csv')"
   ]
  },
  {
   "cell_type": "markdown",
   "id": "7ce3c99a",
   "metadata": {
    "papermill": {
     "duration": 0.01082,
     "end_time": "2023-03-15T11:48:06.805517",
     "exception": false,
     "start_time": "2023-03-15T11:48:06.794697",
     "status": "completed"
    },
    "tags": []
   },
   "source": [
    "Use 'df' to display the whole data in as cell."
   ]
  },
  {
   "cell_type": "code",
   "execution_count": 2,
   "id": "cb9b8766",
   "metadata": {
    "execution": {
     "iopub.execute_input": "2023-03-15T11:48:06.827878Z",
     "iopub.status.busy": "2023-03-15T11:48:06.826738Z",
     "iopub.status.idle": "2023-03-15T11:48:06.862824Z",
     "shell.execute_reply": "2023-03-15T11:48:06.861387Z"
    },
    "papermill": {
     "duration": 0.049759,
     "end_time": "2023-03-15T11:48:06.865367",
     "exception": false,
     "start_time": "2023-03-15T11:48:06.815608",
     "status": "completed"
    },
    "tags": []
   },
   "outputs": [
    {
     "data": {
      "text/html": [
       "<div>\n",
       "<style scoped>\n",
       "    .dataframe tbody tr th:only-of-type {\n",
       "        vertical-align: middle;\n",
       "    }\n",
       "\n",
       "    .dataframe tbody tr th {\n",
       "        vertical-align: top;\n",
       "    }\n",
       "\n",
       "    .dataframe thead th {\n",
       "        text-align: right;\n",
       "    }\n",
       "</style>\n",
       "<table border=\"1\" class=\"dataframe\">\n",
       "  <thead>\n",
       "    <tr style=\"text-align: right;\">\n",
       "      <th></th>\n",
       "      <th>id</th>\n",
       "      <th>Destination</th>\n",
       "      <th>Feedback</th>\n",
       "      <th>Avg Rating</th>\n",
       "      <th>All in Hotels</th>\n",
       "      <th>Most Popular</th>\n",
       "    </tr>\n",
       "  </thead>\n",
       "  <tbody>\n",
       "    <tr>\n",
       "      <th>0</th>\n",
       "      <td>1.0</td>\n",
       "      <td>New Zealand</td>\n",
       "      <td>9.0</td>\n",
       "      <td>4.0</td>\n",
       "      <td>5.0</td>\n",
       "      <td>Rotura</td>\n",
       "    </tr>\n",
       "    <tr>\n",
       "      <th>1</th>\n",
       "      <td>2.0</td>\n",
       "      <td>North Pole</td>\n",
       "      <td>8.0</td>\n",
       "      <td>4.0</td>\n",
       "      <td>6.0</td>\n",
       "      <td>Svalbard</td>\n",
       "    </tr>\n",
       "    <tr>\n",
       "      <th>2</th>\n",
       "      <td>3.0</td>\n",
       "      <td>Turkmenistan</td>\n",
       "      <td>7.0</td>\n",
       "      <td>3.0</td>\n",
       "      <td>9.0</td>\n",
       "      <td>Derweze</td>\n",
       "    </tr>\n",
       "    <tr>\n",
       "      <th>3</th>\n",
       "      <td>4.0</td>\n",
       "      <td>Russia</td>\n",
       "      <td>8.0</td>\n",
       "      <td>5.0</td>\n",
       "      <td>17.0</td>\n",
       "      <td>Yekaterinburg</td>\n",
       "    </tr>\n",
       "    <tr>\n",
       "      <th>4</th>\n",
       "      <td>5.0</td>\n",
       "      <td>Austria</td>\n",
       "      <td>9.0</td>\n",
       "      <td>4.0</td>\n",
       "      <td>12.0</td>\n",
       "      <td>Hinterbruhl</td>\n",
       "    </tr>\n",
       "    <tr>\n",
       "      <th>5</th>\n",
       "      <td>6.0</td>\n",
       "      <td>China</td>\n",
       "      <td>8.0</td>\n",
       "      <td>3.0</td>\n",
       "      <td>198.0</td>\n",
       "      <td>Xinjiang</td>\n",
       "    </tr>\n",
       "    <tr>\n",
       "      <th>6</th>\n",
       "      <td>7.0</td>\n",
       "      <td>Italy</td>\n",
       "      <td>9.0</td>\n",
       "      <td>5.0</td>\n",
       "      <td>76.0</td>\n",
       "      <td>Puglia</td>\n",
       "    </tr>\n",
       "    <tr>\n",
       "      <th>7</th>\n",
       "      <td>8.0</td>\n",
       "      <td>France</td>\n",
       "      <td>6.0</td>\n",
       "      <td>3.0</td>\n",
       "      <td>24.0</td>\n",
       "      <td>Nantes</td>\n",
       "    </tr>\n",
       "    <tr>\n",
       "      <th>8</th>\n",
       "      <td>9.0</td>\n",
       "      <td>India</td>\n",
       "      <td>8.0</td>\n",
       "      <td>3.0</td>\n",
       "      <td>45.0</td>\n",
       "      <td>Ladakh</td>\n",
       "    </tr>\n",
       "    <tr>\n",
       "      <th>9</th>\n",
       "      <td>10.0</td>\n",
       "      <td>Indonesia</td>\n",
       "      <td>9.0</td>\n",
       "      <td>4.0</td>\n",
       "      <td>80.0</td>\n",
       "      <td>Aceh</td>\n",
       "    </tr>\n",
       "    <tr>\n",
       "      <th>10</th>\n",
       "      <td>11.0</td>\n",
       "      <td>Japan</td>\n",
       "      <td>10.0</td>\n",
       "      <td>5.0</td>\n",
       "      <td>90.0</td>\n",
       "      <td>Beppu</td>\n",
       "    </tr>\n",
       "    <tr>\n",
       "      <th>11</th>\n",
       "      <td>12.0</td>\n",
       "      <td>Turkey</td>\n",
       "      <td>9.0</td>\n",
       "      <td>4.0</td>\n",
       "      <td>54.0</td>\n",
       "      <td>Faralya</td>\n",
       "    </tr>\n",
       "    <tr>\n",
       "      <th>12</th>\n",
       "      <td>13.0</td>\n",
       "      <td>Palestine</td>\n",
       "      <td>9.0</td>\n",
       "      <td>3.0</td>\n",
       "      <td>5.0</td>\n",
       "      <td>Jerusalem</td>\n",
       "    </tr>\n",
       "    <tr>\n",
       "      <th>13</th>\n",
       "      <td>14.0</td>\n",
       "      <td>Oman</td>\n",
       "      <td>7.0</td>\n",
       "      <td>5.0</td>\n",
       "      <td>2.0</td>\n",
       "      <td>Bahla</td>\n",
       "    </tr>\n",
       "    <tr>\n",
       "      <th>14</th>\n",
       "      <td>15.0</td>\n",
       "      <td>United Kingdom</td>\n",
       "      <td>7.0</td>\n",
       "      <td>4.0</td>\n",
       "      <td>20.0</td>\n",
       "      <td>London</td>\n",
       "    </tr>\n",
       "    <tr>\n",
       "      <th>15</th>\n",
       "      <td>NaN</td>\n",
       "      <td>NaN</td>\n",
       "      <td>NaN</td>\n",
       "      <td>NaN</td>\n",
       "      <td>NaN</td>\n",
       "      <td>NaN</td>\n",
       "    </tr>\n",
       "    <tr>\n",
       "      <th>16</th>\n",
       "      <td>NaN</td>\n",
       "      <td>NaN</td>\n",
       "      <td>NaN</td>\n",
       "      <td>NaN</td>\n",
       "      <td>NaN</td>\n",
       "      <td>NaN</td>\n",
       "    </tr>\n",
       "  </tbody>\n",
       "</table>\n",
       "</div>"
      ],
      "text/plain": [
       "      id     Destination  Feedback  Avg Rating  All in Hotels   Most Popular\n",
       "0    1.0     New Zealand       9.0         4.0            5.0         Rotura\n",
       "1    2.0      North Pole       8.0         4.0            6.0       Svalbard\n",
       "2    3.0    Turkmenistan       7.0         3.0            9.0        Derweze\n",
       "3    4.0          Russia       8.0         5.0           17.0  Yekaterinburg\n",
       "4    5.0         Austria       9.0         4.0           12.0    Hinterbruhl\n",
       "5    6.0           China       8.0         3.0          198.0       Xinjiang\n",
       "6    7.0           Italy       9.0         5.0           76.0         Puglia\n",
       "7    8.0          France       6.0         3.0           24.0         Nantes\n",
       "8    9.0           India       8.0         3.0           45.0         Ladakh\n",
       "9   10.0       Indonesia       9.0         4.0           80.0           Aceh\n",
       "10  11.0           Japan      10.0         5.0           90.0          Beppu\n",
       "11  12.0          Turkey       9.0         4.0           54.0        Faralya\n",
       "12  13.0       Palestine       9.0         3.0            5.0      Jerusalem\n",
       "13  14.0            Oman       7.0         5.0            2.0          Bahla\n",
       "14  15.0  United Kingdom       7.0         4.0           20.0         London\n",
       "15   NaN             NaN       NaN         NaN            NaN            NaN\n",
       "16   NaN             NaN       NaN         NaN            NaN            NaN"
      ]
     },
     "execution_count": 2,
     "metadata": {},
     "output_type": "execute_result"
    }
   ],
   "source": [
    "df"
   ]
  },
  {
   "cell_type": "markdown",
   "id": "b6dc1b77",
   "metadata": {
    "papermill": {
     "duration": 0.010001,
     "end_time": "2023-03-15T11:48:06.885729",
     "exception": false,
     "start_time": "2023-03-15T11:48:06.875728",
     "status": "completed"
    },
    "tags": []
   },
   "source": [
    "If you have more than 1000+ rows, only display the first 5 rows of dataset. Use 'head(10)' to display 10 rows."
   ]
  },
  {
   "cell_type": "code",
   "execution_count": 3,
   "id": "4fda3513",
   "metadata": {
    "execution": {
     "iopub.execute_input": "2023-03-15T11:48:06.907611Z",
     "iopub.status.busy": "2023-03-15T11:48:06.907171Z",
     "iopub.status.idle": "2023-03-15T11:48:06.923250Z",
     "shell.execute_reply": "2023-03-15T11:48:06.922069Z"
    },
    "papermill": {
     "duration": 0.02986,
     "end_time": "2023-03-15T11:48:06.925627",
     "exception": false,
     "start_time": "2023-03-15T11:48:06.895767",
     "status": "completed"
    },
    "tags": []
   },
   "outputs": [
    {
     "data": {
      "text/html": [
       "<div>\n",
       "<style scoped>\n",
       "    .dataframe tbody tr th:only-of-type {\n",
       "        vertical-align: middle;\n",
       "    }\n",
       "\n",
       "    .dataframe tbody tr th {\n",
       "        vertical-align: top;\n",
       "    }\n",
       "\n",
       "    .dataframe thead th {\n",
       "        text-align: right;\n",
       "    }\n",
       "</style>\n",
       "<table border=\"1\" class=\"dataframe\">\n",
       "  <thead>\n",
       "    <tr style=\"text-align: right;\">\n",
       "      <th></th>\n",
       "      <th>id</th>\n",
       "      <th>Destination</th>\n",
       "      <th>Feedback</th>\n",
       "      <th>Avg Rating</th>\n",
       "      <th>All in Hotels</th>\n",
       "      <th>Most Popular</th>\n",
       "    </tr>\n",
       "  </thead>\n",
       "  <tbody>\n",
       "    <tr>\n",
       "      <th>0</th>\n",
       "      <td>1.0</td>\n",
       "      <td>New Zealand</td>\n",
       "      <td>9.0</td>\n",
       "      <td>4.0</td>\n",
       "      <td>5.0</td>\n",
       "      <td>Rotura</td>\n",
       "    </tr>\n",
       "    <tr>\n",
       "      <th>1</th>\n",
       "      <td>2.0</td>\n",
       "      <td>North Pole</td>\n",
       "      <td>8.0</td>\n",
       "      <td>4.0</td>\n",
       "      <td>6.0</td>\n",
       "      <td>Svalbard</td>\n",
       "    </tr>\n",
       "    <tr>\n",
       "      <th>2</th>\n",
       "      <td>3.0</td>\n",
       "      <td>Turkmenistan</td>\n",
       "      <td>7.0</td>\n",
       "      <td>3.0</td>\n",
       "      <td>9.0</td>\n",
       "      <td>Derweze</td>\n",
       "    </tr>\n",
       "    <tr>\n",
       "      <th>3</th>\n",
       "      <td>4.0</td>\n",
       "      <td>Russia</td>\n",
       "      <td>8.0</td>\n",
       "      <td>5.0</td>\n",
       "      <td>17.0</td>\n",
       "      <td>Yekaterinburg</td>\n",
       "    </tr>\n",
       "    <tr>\n",
       "      <th>4</th>\n",
       "      <td>5.0</td>\n",
       "      <td>Austria</td>\n",
       "      <td>9.0</td>\n",
       "      <td>4.0</td>\n",
       "      <td>12.0</td>\n",
       "      <td>Hinterbruhl</td>\n",
       "    </tr>\n",
       "  </tbody>\n",
       "</table>\n",
       "</div>"
      ],
      "text/plain": [
       "    id   Destination  Feedback  Avg Rating  All in Hotels   Most Popular\n",
       "0  1.0   New Zealand       9.0         4.0            5.0         Rotura\n",
       "1  2.0    North Pole       8.0         4.0            6.0       Svalbard\n",
       "2  3.0  Turkmenistan       7.0         3.0            9.0        Derweze\n",
       "3  4.0        Russia       8.0         5.0           17.0  Yekaterinburg\n",
       "4  5.0       Austria       9.0         4.0           12.0    Hinterbruhl"
      ]
     },
     "execution_count": 3,
     "metadata": {},
     "output_type": "execute_result"
    }
   ],
   "source": [
    "df.head()"
   ]
  },
  {
   "cell_type": "code",
   "execution_count": 4,
   "id": "4ab43d07",
   "metadata": {
    "execution": {
     "iopub.execute_input": "2023-03-15T11:48:06.948832Z",
     "iopub.status.busy": "2023-03-15T11:48:06.947968Z",
     "iopub.status.idle": "2023-03-15T11:48:06.964419Z",
     "shell.execute_reply": "2023-03-15T11:48:06.963508Z"
    },
    "papermill": {
     "duration": 0.030253,
     "end_time": "2023-03-15T11:48:06.966670",
     "exception": false,
     "start_time": "2023-03-15T11:48:06.936417",
     "status": "completed"
    },
    "tags": []
   },
   "outputs": [
    {
     "data": {
      "text/html": [
       "<div>\n",
       "<style scoped>\n",
       "    .dataframe tbody tr th:only-of-type {\n",
       "        vertical-align: middle;\n",
       "    }\n",
       "\n",
       "    .dataframe tbody tr th {\n",
       "        vertical-align: top;\n",
       "    }\n",
       "\n",
       "    .dataframe thead th {\n",
       "        text-align: right;\n",
       "    }\n",
       "</style>\n",
       "<table border=\"1\" class=\"dataframe\">\n",
       "  <thead>\n",
       "    <tr style=\"text-align: right;\">\n",
       "      <th></th>\n",
       "      <th>id</th>\n",
       "      <th>Destination</th>\n",
       "      <th>Feedback</th>\n",
       "      <th>Avg Rating</th>\n",
       "      <th>All in Hotels</th>\n",
       "      <th>Most Popular</th>\n",
       "    </tr>\n",
       "  </thead>\n",
       "  <tbody>\n",
       "    <tr>\n",
       "      <th>0</th>\n",
       "      <td>1.0</td>\n",
       "      <td>New Zealand</td>\n",
       "      <td>9.0</td>\n",
       "      <td>4.0</td>\n",
       "      <td>5.0</td>\n",
       "      <td>Rotura</td>\n",
       "    </tr>\n",
       "    <tr>\n",
       "      <th>1</th>\n",
       "      <td>2.0</td>\n",
       "      <td>North Pole</td>\n",
       "      <td>8.0</td>\n",
       "      <td>4.0</td>\n",
       "      <td>6.0</td>\n",
       "      <td>Svalbard</td>\n",
       "    </tr>\n",
       "    <tr>\n",
       "      <th>2</th>\n",
       "      <td>3.0</td>\n",
       "      <td>Turkmenistan</td>\n",
       "      <td>7.0</td>\n",
       "      <td>3.0</td>\n",
       "      <td>9.0</td>\n",
       "      <td>Derweze</td>\n",
       "    </tr>\n",
       "    <tr>\n",
       "      <th>3</th>\n",
       "      <td>4.0</td>\n",
       "      <td>Russia</td>\n",
       "      <td>8.0</td>\n",
       "      <td>5.0</td>\n",
       "      <td>17.0</td>\n",
       "      <td>Yekaterinburg</td>\n",
       "    </tr>\n",
       "    <tr>\n",
       "      <th>4</th>\n",
       "      <td>5.0</td>\n",
       "      <td>Austria</td>\n",
       "      <td>9.0</td>\n",
       "      <td>4.0</td>\n",
       "      <td>12.0</td>\n",
       "      <td>Hinterbruhl</td>\n",
       "    </tr>\n",
       "    <tr>\n",
       "      <th>5</th>\n",
       "      <td>6.0</td>\n",
       "      <td>China</td>\n",
       "      <td>8.0</td>\n",
       "      <td>3.0</td>\n",
       "      <td>198.0</td>\n",
       "      <td>Xinjiang</td>\n",
       "    </tr>\n",
       "    <tr>\n",
       "      <th>6</th>\n",
       "      <td>7.0</td>\n",
       "      <td>Italy</td>\n",
       "      <td>9.0</td>\n",
       "      <td>5.0</td>\n",
       "      <td>76.0</td>\n",
       "      <td>Puglia</td>\n",
       "    </tr>\n",
       "    <tr>\n",
       "      <th>7</th>\n",
       "      <td>8.0</td>\n",
       "      <td>France</td>\n",
       "      <td>6.0</td>\n",
       "      <td>3.0</td>\n",
       "      <td>24.0</td>\n",
       "      <td>Nantes</td>\n",
       "    </tr>\n",
       "    <tr>\n",
       "      <th>8</th>\n",
       "      <td>9.0</td>\n",
       "      <td>India</td>\n",
       "      <td>8.0</td>\n",
       "      <td>3.0</td>\n",
       "      <td>45.0</td>\n",
       "      <td>Ladakh</td>\n",
       "    </tr>\n",
       "    <tr>\n",
       "      <th>9</th>\n",
       "      <td>10.0</td>\n",
       "      <td>Indonesia</td>\n",
       "      <td>9.0</td>\n",
       "      <td>4.0</td>\n",
       "      <td>80.0</td>\n",
       "      <td>Aceh</td>\n",
       "    </tr>\n",
       "  </tbody>\n",
       "</table>\n",
       "</div>"
      ],
      "text/plain": [
       "     id   Destination  Feedback  Avg Rating  All in Hotels   Most Popular\n",
       "0   1.0   New Zealand       9.0         4.0            5.0         Rotura\n",
       "1   2.0    North Pole       8.0         4.0            6.0       Svalbard\n",
       "2   3.0  Turkmenistan       7.0         3.0            9.0        Derweze\n",
       "3   4.0        Russia       8.0         5.0           17.0  Yekaterinburg\n",
       "4   5.0       Austria       9.0         4.0           12.0    Hinterbruhl\n",
       "5   6.0         China       8.0         3.0          198.0       Xinjiang\n",
       "6   7.0         Italy       9.0         5.0           76.0         Puglia\n",
       "7   8.0        France       6.0         3.0           24.0         Nantes\n",
       "8   9.0         India       8.0         3.0           45.0         Ladakh\n",
       "9  10.0     Indonesia       9.0         4.0           80.0           Aceh"
      ]
     },
     "execution_count": 4,
     "metadata": {},
     "output_type": "execute_result"
    }
   ],
   "source": [
    "df.head(10)"
   ]
  },
  {
   "cell_type": "markdown",
   "id": "12c3d172",
   "metadata": {
    "papermill": {
     "duration": 0.010111,
     "end_time": "2023-03-15T11:48:06.987247",
     "exception": false,
     "start_time": "2023-03-15T11:48:06.977136",
     "status": "completed"
    },
    "tags": []
   },
   "source": [
    "Use 'tail()' to show the last 5 rows. You can use 'tail(10)' if you want to display the last 10 rows instead of 5."
   ]
  },
  {
   "cell_type": "code",
   "execution_count": 5,
   "id": "de63b163",
   "metadata": {
    "execution": {
     "iopub.execute_input": "2023-03-15T11:48:07.010094Z",
     "iopub.status.busy": "2023-03-15T11:48:07.009292Z",
     "iopub.status.idle": "2023-03-15T11:48:07.024169Z",
     "shell.execute_reply": "2023-03-15T11:48:07.023217Z"
    },
    "papermill": {
     "duration": 0.029174,
     "end_time": "2023-03-15T11:48:07.026657",
     "exception": false,
     "start_time": "2023-03-15T11:48:06.997483",
     "status": "completed"
    },
    "tags": []
   },
   "outputs": [
    {
     "data": {
      "text/html": [
       "<div>\n",
       "<style scoped>\n",
       "    .dataframe tbody tr th:only-of-type {\n",
       "        vertical-align: middle;\n",
       "    }\n",
       "\n",
       "    .dataframe tbody tr th {\n",
       "        vertical-align: top;\n",
       "    }\n",
       "\n",
       "    .dataframe thead th {\n",
       "        text-align: right;\n",
       "    }\n",
       "</style>\n",
       "<table border=\"1\" class=\"dataframe\">\n",
       "  <thead>\n",
       "    <tr style=\"text-align: right;\">\n",
       "      <th></th>\n",
       "      <th>id</th>\n",
       "      <th>Destination</th>\n",
       "      <th>Feedback</th>\n",
       "      <th>Avg Rating</th>\n",
       "      <th>All in Hotels</th>\n",
       "      <th>Most Popular</th>\n",
       "    </tr>\n",
       "  </thead>\n",
       "  <tbody>\n",
       "    <tr>\n",
       "      <th>12</th>\n",
       "      <td>13.0</td>\n",
       "      <td>Palestine</td>\n",
       "      <td>9.0</td>\n",
       "      <td>3.0</td>\n",
       "      <td>5.0</td>\n",
       "      <td>Jerusalem</td>\n",
       "    </tr>\n",
       "    <tr>\n",
       "      <th>13</th>\n",
       "      <td>14.0</td>\n",
       "      <td>Oman</td>\n",
       "      <td>7.0</td>\n",
       "      <td>5.0</td>\n",
       "      <td>2.0</td>\n",
       "      <td>Bahla</td>\n",
       "    </tr>\n",
       "    <tr>\n",
       "      <th>14</th>\n",
       "      <td>15.0</td>\n",
       "      <td>United Kingdom</td>\n",
       "      <td>7.0</td>\n",
       "      <td>4.0</td>\n",
       "      <td>20.0</td>\n",
       "      <td>London</td>\n",
       "    </tr>\n",
       "    <tr>\n",
       "      <th>15</th>\n",
       "      <td>NaN</td>\n",
       "      <td>NaN</td>\n",
       "      <td>NaN</td>\n",
       "      <td>NaN</td>\n",
       "      <td>NaN</td>\n",
       "      <td>NaN</td>\n",
       "    </tr>\n",
       "    <tr>\n",
       "      <th>16</th>\n",
       "      <td>NaN</td>\n",
       "      <td>NaN</td>\n",
       "      <td>NaN</td>\n",
       "      <td>NaN</td>\n",
       "      <td>NaN</td>\n",
       "      <td>NaN</td>\n",
       "    </tr>\n",
       "  </tbody>\n",
       "</table>\n",
       "</div>"
      ],
      "text/plain": [
       "      id     Destination  Feedback  Avg Rating  All in Hotels Most Popular\n",
       "12  13.0       Palestine       9.0         3.0            5.0    Jerusalem\n",
       "13  14.0            Oman       7.0         5.0            2.0        Bahla\n",
       "14  15.0  United Kingdom       7.0         4.0           20.0       London\n",
       "15   NaN             NaN       NaN         NaN            NaN          NaN\n",
       "16   NaN             NaN       NaN         NaN            NaN          NaN"
      ]
     },
     "execution_count": 5,
     "metadata": {},
     "output_type": "execute_result"
    }
   ],
   "source": [
    "df.tail()"
   ]
  },
  {
   "cell_type": "code",
   "execution_count": 6,
   "id": "50cfbd57",
   "metadata": {
    "execution": {
     "iopub.execute_input": "2023-03-15T11:48:07.049887Z",
     "iopub.status.busy": "2023-03-15T11:48:07.049433Z",
     "iopub.status.idle": "2023-03-15T11:48:07.066667Z",
     "shell.execute_reply": "2023-03-15T11:48:07.065484Z"
    },
    "papermill": {
     "duration": 0.031805,
     "end_time": "2023-03-15T11:48:07.069176",
     "exception": false,
     "start_time": "2023-03-15T11:48:07.037371",
     "status": "completed"
    },
    "tags": []
   },
   "outputs": [
    {
     "data": {
      "text/html": [
       "<div>\n",
       "<style scoped>\n",
       "    .dataframe tbody tr th:only-of-type {\n",
       "        vertical-align: middle;\n",
       "    }\n",
       "\n",
       "    .dataframe tbody tr th {\n",
       "        vertical-align: top;\n",
       "    }\n",
       "\n",
       "    .dataframe thead th {\n",
       "        text-align: right;\n",
       "    }\n",
       "</style>\n",
       "<table border=\"1\" class=\"dataframe\">\n",
       "  <thead>\n",
       "    <tr style=\"text-align: right;\">\n",
       "      <th></th>\n",
       "      <th>id</th>\n",
       "      <th>Destination</th>\n",
       "      <th>Feedback</th>\n",
       "      <th>Avg Rating</th>\n",
       "      <th>All in Hotels</th>\n",
       "      <th>Most Popular</th>\n",
       "    </tr>\n",
       "  </thead>\n",
       "  <tbody>\n",
       "    <tr>\n",
       "      <th>7</th>\n",
       "      <td>8.0</td>\n",
       "      <td>France</td>\n",
       "      <td>6.0</td>\n",
       "      <td>3.0</td>\n",
       "      <td>24.0</td>\n",
       "      <td>Nantes</td>\n",
       "    </tr>\n",
       "    <tr>\n",
       "      <th>8</th>\n",
       "      <td>9.0</td>\n",
       "      <td>India</td>\n",
       "      <td>8.0</td>\n",
       "      <td>3.0</td>\n",
       "      <td>45.0</td>\n",
       "      <td>Ladakh</td>\n",
       "    </tr>\n",
       "    <tr>\n",
       "      <th>9</th>\n",
       "      <td>10.0</td>\n",
       "      <td>Indonesia</td>\n",
       "      <td>9.0</td>\n",
       "      <td>4.0</td>\n",
       "      <td>80.0</td>\n",
       "      <td>Aceh</td>\n",
       "    </tr>\n",
       "    <tr>\n",
       "      <th>10</th>\n",
       "      <td>11.0</td>\n",
       "      <td>Japan</td>\n",
       "      <td>10.0</td>\n",
       "      <td>5.0</td>\n",
       "      <td>90.0</td>\n",
       "      <td>Beppu</td>\n",
       "    </tr>\n",
       "    <tr>\n",
       "      <th>11</th>\n",
       "      <td>12.0</td>\n",
       "      <td>Turkey</td>\n",
       "      <td>9.0</td>\n",
       "      <td>4.0</td>\n",
       "      <td>54.0</td>\n",
       "      <td>Faralya</td>\n",
       "    </tr>\n",
       "    <tr>\n",
       "      <th>12</th>\n",
       "      <td>13.0</td>\n",
       "      <td>Palestine</td>\n",
       "      <td>9.0</td>\n",
       "      <td>3.0</td>\n",
       "      <td>5.0</td>\n",
       "      <td>Jerusalem</td>\n",
       "    </tr>\n",
       "    <tr>\n",
       "      <th>13</th>\n",
       "      <td>14.0</td>\n",
       "      <td>Oman</td>\n",
       "      <td>7.0</td>\n",
       "      <td>5.0</td>\n",
       "      <td>2.0</td>\n",
       "      <td>Bahla</td>\n",
       "    </tr>\n",
       "    <tr>\n",
       "      <th>14</th>\n",
       "      <td>15.0</td>\n",
       "      <td>United Kingdom</td>\n",
       "      <td>7.0</td>\n",
       "      <td>4.0</td>\n",
       "      <td>20.0</td>\n",
       "      <td>London</td>\n",
       "    </tr>\n",
       "    <tr>\n",
       "      <th>15</th>\n",
       "      <td>NaN</td>\n",
       "      <td>NaN</td>\n",
       "      <td>NaN</td>\n",
       "      <td>NaN</td>\n",
       "      <td>NaN</td>\n",
       "      <td>NaN</td>\n",
       "    </tr>\n",
       "    <tr>\n",
       "      <th>16</th>\n",
       "      <td>NaN</td>\n",
       "      <td>NaN</td>\n",
       "      <td>NaN</td>\n",
       "      <td>NaN</td>\n",
       "      <td>NaN</td>\n",
       "      <td>NaN</td>\n",
       "    </tr>\n",
       "  </tbody>\n",
       "</table>\n",
       "</div>"
      ],
      "text/plain": [
       "      id     Destination  Feedback  Avg Rating  All in Hotels Most Popular\n",
       "7    8.0          France       6.0         3.0           24.0       Nantes\n",
       "8    9.0           India       8.0         3.0           45.0       Ladakh\n",
       "9   10.0       Indonesia       9.0         4.0           80.0         Aceh\n",
       "10  11.0           Japan      10.0         5.0           90.0        Beppu\n",
       "11  12.0          Turkey       9.0         4.0           54.0      Faralya\n",
       "12  13.0       Palestine       9.0         3.0            5.0    Jerusalem\n",
       "13  14.0            Oman       7.0         5.0            2.0        Bahla\n",
       "14  15.0  United Kingdom       7.0         4.0           20.0       London\n",
       "15   NaN             NaN       NaN         NaN            NaN          NaN\n",
       "16   NaN             NaN       NaN         NaN            NaN          NaN"
      ]
     },
     "execution_count": 6,
     "metadata": {},
     "output_type": "execute_result"
    }
   ],
   "source": [
    "df.tail(10)"
   ]
  },
  {
   "cell_type": "markdown",
   "id": "308f1043",
   "metadata": {
    "papermill": {
     "duration": 0.010478,
     "end_time": "2023-03-15T11:48:07.090480",
     "exception": false,
     "start_time": "2023-03-15T11:48:07.080002",
     "status": "completed"
    },
    "tags": []
   },
   "source": [
    "# **Pandas Two Main Data Structures**\n",
    "1.Series\n",
    "2.Dataframes - regular dataset (data in tabular format)"
   ]
  },
  {
   "cell_type": "markdown",
   "id": "a512d04d",
   "metadata": {
    "papermill": {
     "duration": 0.011079,
     "end_time": "2023-03-15T11:48:07.112535",
     "exception": false,
     "start_time": "2023-03-15T11:48:07.101456",
     "status": "completed"
    },
    "tags": []
   },
   "source": [
    "1. Series data stucture as follows:"
   ]
  },
  {
   "cell_type": "code",
   "execution_count": 7,
   "id": "2077cb9c",
   "metadata": {
    "execution": {
     "iopub.execute_input": "2023-03-15T11:48:07.136678Z",
     "iopub.status.busy": "2023-03-15T11:48:07.136229Z",
     "iopub.status.idle": "2023-03-15T11:48:07.146321Z",
     "shell.execute_reply": "2023-03-15T11:48:07.145409Z"
    },
    "papermill": {
     "duration": 0.025086,
     "end_time": "2023-03-15T11:48:07.148608",
     "exception": false,
     "start_time": "2023-03-15T11:48:07.123522",
     "status": "completed"
    },
    "tags": []
   },
   "outputs": [
    {
     "data": {
      "text/plain": [
       "0        New Zealand\n",
       "1         North Pole\n",
       "2       Turkmenistan\n",
       "3             Russia\n",
       "4            Austria\n",
       "5              China\n",
       "6              Italy\n",
       "7             France\n",
       "8              India\n",
       "9          Indonesia\n",
       "10             Japan\n",
       "11            Turkey\n",
       "12         Palestine\n",
       "13              Oman\n",
       "14    United Kingdom\n",
       "15               NaN\n",
       "16               NaN\n",
       "Name: Destination, dtype: object"
      ]
     },
     "execution_count": 7,
     "metadata": {},
     "output_type": "execute_result"
    }
   ],
   "source": [
    "df.Destination # series, will display data as a single column"
   ]
  },
  {
   "cell_type": "code",
   "execution_count": 8,
   "id": "60732c5c",
   "metadata": {
    "execution": {
     "iopub.execute_input": "2023-03-15T11:48:07.173135Z",
     "iopub.status.busy": "2023-03-15T11:48:07.172681Z",
     "iopub.status.idle": "2023-03-15T11:48:07.180215Z",
     "shell.execute_reply": "2023-03-15T11:48:07.178978Z"
    },
    "papermill": {
     "duration": 0.023114,
     "end_time": "2023-03-15T11:48:07.182926",
     "exception": false,
     "start_time": "2023-03-15T11:48:07.159812",
     "status": "completed"
    },
    "tags": []
   },
   "outputs": [
    {
     "data": {
      "text/plain": [
       "Index(['id', 'Destination', 'Feedback', 'Avg Rating', 'All in Hotels',\n",
       "       'Most Popular'],\n",
       "      dtype='object')"
      ]
     },
     "execution_count": 8,
     "metadata": {},
     "output_type": "execute_result"
    }
   ],
   "source": [
    "df.columns # this displays titles of all columns"
   ]
  },
  {
   "cell_type": "code",
   "execution_count": 9,
   "id": "0a74ed44",
   "metadata": {
    "execution": {
     "iopub.execute_input": "2023-03-15T11:48:07.207709Z",
     "iopub.status.busy": "2023-03-15T11:48:07.207278Z",
     "iopub.status.idle": "2023-03-15T11:48:07.215216Z",
     "shell.execute_reply": "2023-03-15T11:48:07.213993Z"
    },
    "papermill": {
     "duration": 0.023314,
     "end_time": "2023-03-15T11:48:07.217672",
     "exception": false,
     "start_time": "2023-03-15T11:48:07.194358",
     "status": "completed"
    },
    "tags": []
   },
   "outputs": [
    {
     "data": {
      "text/plain": [
       "RangeIndex(start=0, stop=17, step=1)"
      ]
     },
     "execution_count": 9,
     "metadata": {},
     "output_type": "execute_result"
    }
   ],
   "source": [
    "df.index"
   ]
  },
  {
   "cell_type": "markdown",
   "id": "8ef85fde",
   "metadata": {
    "papermill": {
     "duration": 0.010839,
     "end_time": "2023-03-15T11:48:07.240161",
     "exception": false,
     "start_time": "2023-03-15T11:48:07.229322",
     "status": "completed"
    },
    "tags": []
   },
   "source": [
    "How  many rows and columns does the dataset has?"
   ]
  },
  {
   "cell_type": "code",
   "execution_count": 10,
   "id": "5bfeddf5",
   "metadata": {
    "execution": {
     "iopub.execute_input": "2023-03-15T11:48:07.264315Z",
     "iopub.status.busy": "2023-03-15T11:48:07.263748Z",
     "iopub.status.idle": "2023-03-15T11:48:07.271628Z",
     "shell.execute_reply": "2023-03-15T11:48:07.270309Z"
    },
    "papermill": {
     "duration": 0.023162,
     "end_time": "2023-03-15T11:48:07.274399",
     "exception": false,
     "start_time": "2023-03-15T11:48:07.251237",
     "status": "completed"
    },
    "tags": []
   },
   "outputs": [
    {
     "data": {
      "text/plain": [
       "(17, 6)"
      ]
     },
     "execution_count": 10,
     "metadata": {},
     "output_type": "execute_result"
    }
   ],
   "source": [
    "df.shape # return a tuple (rows, columns)"
   ]
  },
  {
   "cell_type": "code",
   "execution_count": 11,
   "id": "2ffcc95e",
   "metadata": {
    "execution": {
     "iopub.execute_input": "2023-03-15T11:48:07.299747Z",
     "iopub.status.busy": "2023-03-15T11:48:07.299355Z",
     "iopub.status.idle": "2023-03-15T11:48:07.307480Z",
     "shell.execute_reply": "2023-03-15T11:48:07.306205Z"
    },
    "papermill": {
     "duration": 0.023915,
     "end_time": "2023-03-15T11:48:07.309974",
     "exception": false,
     "start_time": "2023-03-15T11:48:07.286059",
     "status": "completed"
    },
    "tags": []
   },
   "outputs": [
    {
     "data": {
      "text/plain": [
       "id               float64\n",
       "Destination       object\n",
       "Feedback         float64\n",
       "Avg Rating       float64\n",
       "All in Hotels    float64\n",
       "Most Popular      object\n",
       "dtype: object"
      ]
     },
     "execution_count": 11,
     "metadata": {},
     "output_type": "execute_result"
    }
   ],
   "source": [
    "df.dtypes # will display data type stored in each row, Objcet = String"
   ]
  },
  {
   "cell_type": "code",
   "execution_count": 12,
   "id": "5d5608a8",
   "metadata": {
    "execution": {
     "iopub.execute_input": "2023-03-15T11:48:07.334887Z",
     "iopub.status.busy": "2023-03-15T11:48:07.334453Z",
     "iopub.status.idle": "2023-03-15T11:48:07.361469Z",
     "shell.execute_reply": "2023-03-15T11:48:07.360208Z"
    },
    "papermill": {
     "duration": 0.043234,
     "end_time": "2023-03-15T11:48:07.364697",
     "exception": false,
     "start_time": "2023-03-15T11:48:07.321463",
     "status": "completed"
    },
    "tags": []
   },
   "outputs": [
    {
     "name": "stdout",
     "output_type": "stream",
     "text": [
      "<class 'pandas.core.frame.DataFrame'>\n",
      "RangeIndex: 17 entries, 0 to 16\n",
      "Data columns (total 6 columns):\n",
      " #   Column         Non-Null Count  Dtype  \n",
      "---  ------         --------------  -----  \n",
      " 0   id             15 non-null     float64\n",
      " 1   Destination    15 non-null     object \n",
      " 2   Feedback       15 non-null     float64\n",
      " 3   Avg Rating     15 non-null     float64\n",
      " 4   All in Hotels  15 non-null     float64\n",
      " 5   Most Popular   15 non-null     object \n",
      "dtypes: float64(4), object(2)\n",
      "memory usage: 944.0+ bytes\n"
     ]
    }
   ],
   "source": [
    "df.info() # information about the dataframe"
   ]
  },
  {
   "cell_type": "code",
   "execution_count": 13,
   "id": "2dd8ac14",
   "metadata": {
    "execution": {
     "iopub.execute_input": "2023-03-15T11:48:07.390632Z",
     "iopub.status.busy": "2023-03-15T11:48:07.390192Z",
     "iopub.status.idle": "2023-03-15T11:48:07.399508Z",
     "shell.execute_reply": "2023-03-15T11:48:07.398200Z"
    },
    "papermill": {
     "duration": 0.024882,
     "end_time": "2023-03-15T11:48:07.401997",
     "exception": false,
     "start_time": "2023-03-15T11:48:07.377115",
     "status": "completed"
    },
    "tags": []
   },
   "outputs": [
    {
     "data": {
      "text/plain": [
       "0      9.0\n",
       "1      8.0\n",
       "2      7.0\n",
       "3      8.0\n",
       "4      9.0\n",
       "5      8.0\n",
       "6      9.0\n",
       "7      6.0\n",
       "8      8.0\n",
       "9      9.0\n",
       "10    10.0\n",
       "11     9.0\n",
       "12     9.0\n",
       "13     7.0\n",
       "14     7.0\n",
       "15     NaN\n",
       "16     NaN\n",
       "Name: Feedback, dtype: float64"
      ]
     },
     "execution_count": 13,
     "metadata": {},
     "output_type": "execute_result"
    }
   ],
   "source": [
    "df.Feedback # to display only Feedback column"
   ]
  },
  {
   "cell_type": "markdown",
   "id": "4cc6277a",
   "metadata": {
    "papermill": {
     "duration": 0.011273,
     "end_time": "2023-03-15T11:48:07.424979",
     "exception": false,
     "start_time": "2023-03-15T11:48:07.413706",
     "status": "completed"
    },
    "tags": []
   },
   "source": [
    "If your column name has a space use '.xs('column name', axis=1)"
   ]
  },
  {
   "cell_type": "code",
   "execution_count": 14,
   "id": "c76814b0",
   "metadata": {
    "execution": {
     "iopub.execute_input": "2023-03-15T11:48:07.450758Z",
     "iopub.status.busy": "2023-03-15T11:48:07.450345Z",
     "iopub.status.idle": "2023-03-15T11:48:07.459348Z",
     "shell.execute_reply": "2023-03-15T11:48:07.458029Z"
    },
    "papermill": {
     "duration": 0.02526,
     "end_time": "2023-03-15T11:48:07.461835",
     "exception": false,
     "start_time": "2023-03-15T11:48:07.436575",
     "status": "completed"
    },
    "tags": []
   },
   "outputs": [
    {
     "data": {
      "text/plain": [
       "0            Rotura\n",
       "1          Svalbard\n",
       "2           Derweze\n",
       "3     Yekaterinburg\n",
       "4       Hinterbruhl\n",
       "5          Xinjiang\n",
       "6            Puglia\n",
       "7            Nantes\n",
       "8            Ladakh\n",
       "9              Aceh\n",
       "10            Beppu\n",
       "11          Faralya\n",
       "12        Jerusalem\n",
       "13            Bahla\n",
       "14           London\n",
       "15              NaN\n",
       "16              NaN\n",
       "Name: Most Popular, dtype: object"
      ]
     },
     "execution_count": 14,
     "metadata": {},
     "output_type": "execute_result"
    }
   ],
   "source": [
    "df.xs('Most Popular', axis=1) # display only Most Popular column datas"
   ]
  },
  {
   "cell_type": "code",
   "execution_count": 15,
   "id": "8403c32d",
   "metadata": {
    "execution": {
     "iopub.execute_input": "2023-03-15T11:48:07.487182Z",
     "iopub.status.busy": "2023-03-15T11:48:07.486707Z",
     "iopub.status.idle": "2023-03-15T11:48:07.499377Z",
     "shell.execute_reply": "2023-03-15T11:48:07.498178Z"
    },
    "papermill": {
     "duration": 0.028305,
     "end_time": "2023-03-15T11:48:07.501908",
     "exception": false,
     "start_time": "2023-03-15T11:48:07.473603",
     "status": "completed"
    },
    "tags": []
   },
   "outputs": [
    {
     "data": {
      "text/html": [
       "<div>\n",
       "<style scoped>\n",
       "    .dataframe tbody tr th:only-of-type {\n",
       "        vertical-align: middle;\n",
       "    }\n",
       "\n",
       "    .dataframe tbody tr th {\n",
       "        vertical-align: top;\n",
       "    }\n",
       "\n",
       "    .dataframe thead th {\n",
       "        text-align: right;\n",
       "    }\n",
       "</style>\n",
       "<table border=\"1\" class=\"dataframe\">\n",
       "  <thead>\n",
       "    <tr style=\"text-align: right;\">\n",
       "      <th></th>\n",
       "      <th>Destination</th>\n",
       "      <th>Feedback</th>\n",
       "    </tr>\n",
       "  </thead>\n",
       "  <tbody>\n",
       "    <tr>\n",
       "      <th>0</th>\n",
       "      <td>New Zealand</td>\n",
       "      <td>9.0</td>\n",
       "    </tr>\n",
       "    <tr>\n",
       "      <th>1</th>\n",
       "      <td>North Pole</td>\n",
       "      <td>8.0</td>\n",
       "    </tr>\n",
       "    <tr>\n",
       "      <th>2</th>\n",
       "      <td>Turkmenistan</td>\n",
       "      <td>7.0</td>\n",
       "    </tr>\n",
       "    <tr>\n",
       "      <th>3</th>\n",
       "      <td>Russia</td>\n",
       "      <td>8.0</td>\n",
       "    </tr>\n",
       "    <tr>\n",
       "      <th>4</th>\n",
       "      <td>Austria</td>\n",
       "      <td>9.0</td>\n",
       "    </tr>\n",
       "  </tbody>\n",
       "</table>\n",
       "</div>"
      ],
      "text/plain": [
       "    Destination  Feedback\n",
       "0   New Zealand       9.0\n",
       "1    North Pole       8.0\n",
       "2  Turkmenistan       7.0\n",
       "3        Russia       8.0\n",
       "4       Austria       9.0"
      ]
     },
     "execution_count": 15,
     "metadata": {},
     "output_type": "execute_result"
    }
   ],
   "source": [
    "df[['Destination', 'Feedback']].head() # select only two columns and from the first 5 rows"
   ]
  },
  {
   "cell_type": "code",
   "execution_count": 16,
   "id": "9cb74e83",
   "metadata": {
    "execution": {
     "iopub.execute_input": "2023-03-15T11:48:07.527936Z",
     "iopub.status.busy": "2023-03-15T11:48:07.527218Z",
     "iopub.status.idle": "2023-03-15T11:48:07.542232Z",
     "shell.execute_reply": "2023-03-15T11:48:07.540997Z"
    },
    "papermill": {
     "duration": 0.03088,
     "end_time": "2023-03-15T11:48:07.544792",
     "exception": false,
     "start_time": "2023-03-15T11:48:07.513912",
     "status": "completed"
    },
    "tags": []
   },
   "outputs": [
    {
     "data": {
      "text/html": [
       "<div>\n",
       "<style scoped>\n",
       "    .dataframe tbody tr th:only-of-type {\n",
       "        vertical-align: middle;\n",
       "    }\n",
       "\n",
       "    .dataframe tbody tr th {\n",
       "        vertical-align: top;\n",
       "    }\n",
       "\n",
       "    .dataframe thead th {\n",
       "        text-align: right;\n",
       "    }\n",
       "</style>\n",
       "<table border=\"1\" class=\"dataframe\">\n",
       "  <thead>\n",
       "    <tr style=\"text-align: right;\">\n",
       "      <th></th>\n",
       "      <th>id</th>\n",
       "      <th>Destination</th>\n",
       "      <th>Feedback</th>\n",
       "      <th>Avg Rating</th>\n",
       "      <th>All in Hotels</th>\n",
       "      <th>Most Popular</th>\n",
       "    </tr>\n",
       "  </thead>\n",
       "  <tbody>\n",
       "    <tr>\n",
       "      <th>1</th>\n",
       "      <td>2.0</td>\n",
       "      <td>North Pole</td>\n",
       "      <td>8.0</td>\n",
       "      <td>4.0</td>\n",
       "      <td>6.0</td>\n",
       "      <td>Svalbard</td>\n",
       "    </tr>\n",
       "    <tr>\n",
       "      <th>2</th>\n",
       "      <td>3.0</td>\n",
       "      <td>Turkmenistan</td>\n",
       "      <td>7.0</td>\n",
       "      <td>3.0</td>\n",
       "      <td>9.0</td>\n",
       "      <td>Derweze</td>\n",
       "    </tr>\n",
       "    <tr>\n",
       "      <th>3</th>\n",
       "      <td>4.0</td>\n",
       "      <td>Russia</td>\n",
       "      <td>8.0</td>\n",
       "      <td>5.0</td>\n",
       "      <td>17.0</td>\n",
       "      <td>Yekaterinburg</td>\n",
       "    </tr>\n",
       "  </tbody>\n",
       "</table>\n",
       "</div>"
      ],
      "text/plain": [
       "    id   Destination  Feedback  Avg Rating  All in Hotels   Most Popular\n",
       "1  2.0    North Pole       8.0         4.0            6.0       Svalbard\n",
       "2  3.0  Turkmenistan       7.0         3.0            9.0        Derweze\n",
       "3  4.0        Russia       8.0         5.0           17.0  Yekaterinburg"
      ]
     },
     "execution_count": 16,
     "metadata": {},
     "output_type": "execute_result"
    }
   ],
   "source": [
    "# use formal python indexing to select rows\n",
    "df[1:4]"
   ]
  },
  {
   "cell_type": "code",
   "execution_count": 17,
   "id": "f880304e",
   "metadata": {
    "execution": {
     "iopub.execute_input": "2023-03-15T11:48:07.571811Z",
     "iopub.status.busy": "2023-03-15T11:48:07.570648Z",
     "iopub.status.idle": "2023-03-15T11:48:07.584641Z",
     "shell.execute_reply": "2023-03-15T11:48:07.583401Z"
    },
    "papermill": {
     "duration": 0.029795,
     "end_time": "2023-03-15T11:48:07.586963",
     "exception": false,
     "start_time": "2023-03-15T11:48:07.557168",
     "status": "completed"
    },
    "tags": []
   },
   "outputs": [
    {
     "data": {
      "text/html": [
       "<div>\n",
       "<style scoped>\n",
       "    .dataframe tbody tr th:only-of-type {\n",
       "        vertical-align: middle;\n",
       "    }\n",
       "\n",
       "    .dataframe tbody tr th {\n",
       "        vertical-align: top;\n",
       "    }\n",
       "\n",
       "    .dataframe thead th {\n",
       "        text-align: right;\n",
       "    }\n",
       "</style>\n",
       "<table border=\"1\" class=\"dataframe\">\n",
       "  <thead>\n",
       "    <tr style=\"text-align: right;\">\n",
       "      <th></th>\n",
       "      <th>Destination</th>\n",
       "      <th>Feedback</th>\n",
       "      <th>Avg Rating</th>\n",
       "      <th>All in Hotels</th>\n",
       "    </tr>\n",
       "  </thead>\n",
       "  <tbody>\n",
       "    <tr>\n",
       "      <th>1</th>\n",
       "      <td>North Pole</td>\n",
       "      <td>8.0</td>\n",
       "      <td>4.0</td>\n",
       "      <td>6.0</td>\n",
       "    </tr>\n",
       "    <tr>\n",
       "      <th>2</th>\n",
       "      <td>Turkmenistan</td>\n",
       "      <td>7.0</td>\n",
       "      <td>3.0</td>\n",
       "      <td>9.0</td>\n",
       "    </tr>\n",
       "    <tr>\n",
       "      <th>3</th>\n",
       "      <td>Russia</td>\n",
       "      <td>8.0</td>\n",
       "      <td>5.0</td>\n",
       "      <td>17.0</td>\n",
       "    </tr>\n",
       "  </tbody>\n",
       "</table>\n",
       "</div>"
      ],
      "text/plain": [
       "    Destination  Feedback  Avg Rating  All in Hotels\n",
       "1    North Pole       8.0         4.0            6.0\n",
       "2  Turkmenistan       7.0         3.0            9.0\n",
       "3        Russia       8.0         5.0           17.0"
      ]
     },
     "execution_count": 17,
     "metadata": {},
     "output_type": "execute_result"
    }
   ],
   "source": [
    "# use df.iloc [start:stop, [column0, column1, column2]]\n",
    "df.iloc[1:4, [1, 2, 3, 4]]"
   ]
  },
  {
   "cell_type": "code",
   "execution_count": 18,
   "id": "b1cb430e",
   "metadata": {
    "execution": {
     "iopub.execute_input": "2023-03-15T11:48:07.613772Z",
     "iopub.status.busy": "2023-03-15T11:48:07.612919Z",
     "iopub.status.idle": "2023-03-15T11:48:07.621412Z",
     "shell.execute_reply": "2023-03-15T11:48:07.620518Z"
    },
    "papermill": {
     "duration": 0.024261,
     "end_time": "2023-03-15T11:48:07.623650",
     "exception": false,
     "start_time": "2023-03-15T11:48:07.599389",
     "status": "completed"
    },
    "tags": []
   },
   "outputs": [
    {
     "data": {
      "text/plain": [
       "1    4.0\n",
       "2    3.0\n",
       "3    5.0\n",
       "4    4.0\n",
       "Name: Avg Rating, dtype: float64"
      ]
     },
     "execution_count": 18,
     "metadata": {},
     "output_type": "execute_result"
    }
   ],
   "source": [
    "# use 'loc()' to get the data from a particular column\n",
    "df.loc[1:4, 'Avg Rating']"
   ]
  },
  {
   "cell_type": "markdown",
   "id": "3e77f894",
   "metadata": {
    "papermill": {
     "duration": 0.012096,
     "end_time": "2023-03-15T11:48:07.648738",
     "exception": false,
     "start_time": "2023-03-15T11:48:07.636642",
     "status": "completed"
    },
    "tags": []
   },
   "source": [
    "Renaming column name"
   ]
  },
  {
   "cell_type": "code",
   "execution_count": 19,
   "id": "8d1c399d",
   "metadata": {
    "execution": {
     "iopub.execute_input": "2023-03-15T11:48:07.676152Z",
     "iopub.status.busy": "2023-03-15T11:48:07.674787Z",
     "iopub.status.idle": "2023-03-15T11:48:07.692315Z",
     "shell.execute_reply": "2023-03-15T11:48:07.691038Z"
    },
    "papermill": {
     "duration": 0.033944,
     "end_time": "2023-03-15T11:48:07.694929",
     "exception": false,
     "start_time": "2023-03-15T11:48:07.660985",
     "status": "completed"
    },
    "tags": []
   },
   "outputs": [
    {
     "data": {
      "text/html": [
       "<div>\n",
       "<style scoped>\n",
       "    .dataframe tbody tr th:only-of-type {\n",
       "        vertical-align: middle;\n",
       "    }\n",
       "\n",
       "    .dataframe tbody tr th {\n",
       "        vertical-align: top;\n",
       "    }\n",
       "\n",
       "    .dataframe thead th {\n",
       "        text-align: right;\n",
       "    }\n",
       "</style>\n",
       "<table border=\"1\" class=\"dataframe\">\n",
       "  <thead>\n",
       "    <tr style=\"text-align: right;\">\n",
       "      <th></th>\n",
       "      <th>id</th>\n",
       "      <th>Destination</th>\n",
       "      <th>Feedback</th>\n",
       "      <th>Avg_Rating</th>\n",
       "      <th>All in Hotels</th>\n",
       "      <th>Most Popular</th>\n",
       "    </tr>\n",
       "  </thead>\n",
       "  <tbody>\n",
       "    <tr>\n",
       "      <th>0</th>\n",
       "      <td>1.0</td>\n",
       "      <td>New Zealand</td>\n",
       "      <td>9.0</td>\n",
       "      <td>4.0</td>\n",
       "      <td>5.0</td>\n",
       "      <td>Rotura</td>\n",
       "    </tr>\n",
       "    <tr>\n",
       "      <th>1</th>\n",
       "      <td>2.0</td>\n",
       "      <td>North Pole</td>\n",
       "      <td>8.0</td>\n",
       "      <td>4.0</td>\n",
       "      <td>6.0</td>\n",
       "      <td>Svalbard</td>\n",
       "    </tr>\n",
       "    <tr>\n",
       "      <th>2</th>\n",
       "      <td>3.0</td>\n",
       "      <td>Turkmenistan</td>\n",
       "      <td>7.0</td>\n",
       "      <td>3.0</td>\n",
       "      <td>9.0</td>\n",
       "      <td>Derweze</td>\n",
       "    </tr>\n",
       "    <tr>\n",
       "      <th>3</th>\n",
       "      <td>4.0</td>\n",
       "      <td>Russia</td>\n",
       "      <td>8.0</td>\n",
       "      <td>5.0</td>\n",
       "      <td>17.0</td>\n",
       "      <td>Yekaterinburg</td>\n",
       "    </tr>\n",
       "    <tr>\n",
       "      <th>4</th>\n",
       "      <td>5.0</td>\n",
       "      <td>Austria</td>\n",
       "      <td>9.0</td>\n",
       "      <td>4.0</td>\n",
       "      <td>12.0</td>\n",
       "      <td>Hinterbruhl</td>\n",
       "    </tr>\n",
       "  </tbody>\n",
       "</table>\n",
       "</div>"
      ],
      "text/plain": [
       "    id   Destination  Feedback  Avg_Rating  All in Hotels   Most Popular\n",
       "0  1.0   New Zealand       9.0         4.0            5.0         Rotura\n",
       "1  2.0    North Pole       8.0         4.0            6.0       Svalbard\n",
       "2  3.0  Turkmenistan       7.0         3.0            9.0        Derweze\n",
       "3  4.0        Russia       8.0         5.0           17.0  Yekaterinburg\n",
       "4  5.0       Austria       9.0         4.0           12.0    Hinterbruhl"
      ]
     },
     "execution_count": 19,
     "metadata": {},
     "output_type": "execute_result"
    }
   ],
   "source": [
    "df.rename(columns = {'Avg Rating' : 'Avg_Rating'}).head()"
   ]
  },
  {
   "cell_type": "code",
   "execution_count": 20,
   "id": "8af3bdc2",
   "metadata": {
    "execution": {
     "iopub.execute_input": "2023-03-15T11:48:07.722060Z",
     "iopub.status.busy": "2023-03-15T11:48:07.721590Z",
     "iopub.status.idle": "2023-03-15T11:48:07.738218Z",
     "shell.execute_reply": "2023-03-15T11:48:07.736873Z"
    },
    "papermill": {
     "duration": 0.032923,
     "end_time": "2023-03-15T11:48:07.740560",
     "exception": false,
     "start_time": "2023-03-15T11:48:07.707637",
     "status": "completed"
    },
    "tags": []
   },
   "outputs": [
    {
     "data": {
      "text/html": [
       "<div>\n",
       "<style scoped>\n",
       "    .dataframe tbody tr th:only-of-type {\n",
       "        vertical-align: middle;\n",
       "    }\n",
       "\n",
       "    .dataframe tbody tr th {\n",
       "        vertical-align: top;\n",
       "    }\n",
       "\n",
       "    .dataframe thead th {\n",
       "        text-align: right;\n",
       "    }\n",
       "</style>\n",
       "<table border=\"1\" class=\"dataframe\">\n",
       "  <thead>\n",
       "    <tr style=\"text-align: right;\">\n",
       "      <th></th>\n",
       "      <th>id</th>\n",
       "      <th>Destination</th>\n",
       "      <th>Feedback</th>\n",
       "      <th>Avg Rating</th>\n",
       "      <th>Hotel_Count</th>\n",
       "      <th>Most Popular</th>\n",
       "    </tr>\n",
       "  </thead>\n",
       "  <tbody>\n",
       "    <tr>\n",
       "      <th>0</th>\n",
       "      <td>1.0</td>\n",
       "      <td>New Zealand</td>\n",
       "      <td>9.0</td>\n",
       "      <td>4.0</td>\n",
       "      <td>5.0</td>\n",
       "      <td>Rotura</td>\n",
       "    </tr>\n",
       "    <tr>\n",
       "      <th>1</th>\n",
       "      <td>2.0</td>\n",
       "      <td>North Pole</td>\n",
       "      <td>8.0</td>\n",
       "      <td>4.0</td>\n",
       "      <td>6.0</td>\n",
       "      <td>Svalbard</td>\n",
       "    </tr>\n",
       "    <tr>\n",
       "      <th>2</th>\n",
       "      <td>3.0</td>\n",
       "      <td>Turkmenistan</td>\n",
       "      <td>7.0</td>\n",
       "      <td>3.0</td>\n",
       "      <td>9.0</td>\n",
       "      <td>Derweze</td>\n",
       "    </tr>\n",
       "    <tr>\n",
       "      <th>3</th>\n",
       "      <td>4.0</td>\n",
       "      <td>Russia</td>\n",
       "      <td>8.0</td>\n",
       "      <td>5.0</td>\n",
       "      <td>17.0</td>\n",
       "      <td>Yekaterinburg</td>\n",
       "    </tr>\n",
       "    <tr>\n",
       "      <th>4</th>\n",
       "      <td>5.0</td>\n",
       "      <td>Austria</td>\n",
       "      <td>9.0</td>\n",
       "      <td>4.0</td>\n",
       "      <td>12.0</td>\n",
       "      <td>Hinterbruhl</td>\n",
       "    </tr>\n",
       "  </tbody>\n",
       "</table>\n",
       "</div>"
      ],
      "text/plain": [
       "    id   Destination  Feedback  Avg Rating  Hotel_Count   Most Popular\n",
       "0  1.0   New Zealand       9.0         4.0          5.0         Rotura\n",
       "1  2.0    North Pole       8.0         4.0          6.0       Svalbard\n",
       "2  3.0  Turkmenistan       7.0         3.0          9.0        Derweze\n",
       "3  4.0        Russia       8.0         5.0         17.0  Yekaterinburg\n",
       "4  5.0       Austria       9.0         4.0         12.0    Hinterbruhl"
      ]
     },
     "execution_count": 20,
     "metadata": {},
     "output_type": "execute_result"
    }
   ],
   "source": [
    "df.rename(columns =  {'All in Hotels' : 'Hotel_Count'}).head()"
   ]
  },
  {
   "cell_type": "markdown",
   "id": "ee6346c9",
   "metadata": {
    "papermill": {
     "duration": 0.012545,
     "end_time": "2023-03-15T11:48:07.766659",
     "exception": false,
     "start_time": "2023-03-15T11:48:07.754114",
     "status": "completed"
    },
    "tags": []
   },
   "source": [
    "# Statistical Analysis of Dataframe"
   ]
  },
  {
   "cell_type": "code",
   "execution_count": 21,
   "id": "6f5a0955",
   "metadata": {
    "execution": {
     "iopub.execute_input": "2023-03-15T11:48:07.794359Z",
     "iopub.status.busy": "2023-03-15T11:48:07.793888Z",
     "iopub.status.idle": "2023-03-15T11:48:07.821396Z",
     "shell.execute_reply": "2023-03-15T11:48:07.820103Z"
    },
    "papermill": {
     "duration": 0.044341,
     "end_time": "2023-03-15T11:48:07.823943",
     "exception": false,
     "start_time": "2023-03-15T11:48:07.779602",
     "status": "completed"
    },
    "tags": []
   },
   "outputs": [
    {
     "data": {
      "text/html": [
       "<div>\n",
       "<style scoped>\n",
       "    .dataframe tbody tr th:only-of-type {\n",
       "        vertical-align: middle;\n",
       "    }\n",
       "\n",
       "    .dataframe tbody tr th {\n",
       "        vertical-align: top;\n",
       "    }\n",
       "\n",
       "    .dataframe thead th {\n",
       "        text-align: right;\n",
       "    }\n",
       "</style>\n",
       "<table border=\"1\" class=\"dataframe\">\n",
       "  <thead>\n",
       "    <tr style=\"text-align: right;\">\n",
       "      <th></th>\n",
       "      <th>id</th>\n",
       "      <th>Feedback</th>\n",
       "      <th>Avg Rating</th>\n",
       "      <th>All in Hotels</th>\n",
       "    </tr>\n",
       "  </thead>\n",
       "  <tbody>\n",
       "    <tr>\n",
       "      <th>count</th>\n",
       "      <td>15.000000</td>\n",
       "      <td>15.000000</td>\n",
       "      <td>15.000000</td>\n",
       "      <td>15.000000</td>\n",
       "    </tr>\n",
       "    <tr>\n",
       "      <th>mean</th>\n",
       "      <td>8.000000</td>\n",
       "      <td>8.200000</td>\n",
       "      <td>3.933333</td>\n",
       "      <td>42.866667</td>\n",
       "    </tr>\n",
       "    <tr>\n",
       "      <th>std</th>\n",
       "      <td>4.472136</td>\n",
       "      <td>1.082326</td>\n",
       "      <td>0.798809</td>\n",
       "      <td>52.398019</td>\n",
       "    </tr>\n",
       "    <tr>\n",
       "      <th>min</th>\n",
       "      <td>1.000000</td>\n",
       "      <td>6.000000</td>\n",
       "      <td>3.000000</td>\n",
       "      <td>2.000000</td>\n",
       "    </tr>\n",
       "    <tr>\n",
       "      <th>25%</th>\n",
       "      <td>4.500000</td>\n",
       "      <td>7.500000</td>\n",
       "      <td>3.000000</td>\n",
       "      <td>7.500000</td>\n",
       "    </tr>\n",
       "    <tr>\n",
       "      <th>50%</th>\n",
       "      <td>8.000000</td>\n",
       "      <td>8.000000</td>\n",
       "      <td>4.000000</td>\n",
       "      <td>20.000000</td>\n",
       "    </tr>\n",
       "    <tr>\n",
       "      <th>75%</th>\n",
       "      <td>11.500000</td>\n",
       "      <td>9.000000</td>\n",
       "      <td>4.500000</td>\n",
       "      <td>65.000000</td>\n",
       "    </tr>\n",
       "    <tr>\n",
       "      <th>max</th>\n",
       "      <td>15.000000</td>\n",
       "      <td>10.000000</td>\n",
       "      <td>5.000000</td>\n",
       "      <td>198.000000</td>\n",
       "    </tr>\n",
       "  </tbody>\n",
       "</table>\n",
       "</div>"
      ],
      "text/plain": [
       "              id   Feedback  Avg Rating  All in Hotels\n",
       "count  15.000000  15.000000   15.000000      15.000000\n",
       "mean    8.000000   8.200000    3.933333      42.866667\n",
       "std     4.472136   1.082326    0.798809      52.398019\n",
       "min     1.000000   6.000000    3.000000       2.000000\n",
       "25%     4.500000   7.500000    3.000000       7.500000\n",
       "50%     8.000000   8.000000    4.000000      20.000000\n",
       "75%    11.500000   9.000000    4.500000      65.000000\n",
       "max    15.000000  10.000000    5.000000     198.000000"
      ]
     },
     "execution_count": 21,
     "metadata": {},
     "output_type": "execute_result"
    }
   ],
   "source": [
    "df.describe() # get statistical analysis"
   ]
  },
  {
   "cell_type": "code",
   "execution_count": 22,
   "id": "c4a2c68b",
   "metadata": {
    "execution": {
     "iopub.execute_input": "2023-03-15T11:48:07.852187Z",
     "iopub.status.busy": "2023-03-15T11:48:07.851755Z",
     "iopub.status.idle": "2023-03-15T11:48:07.867435Z",
     "shell.execute_reply": "2023-03-15T11:48:07.866234Z"
    },
    "papermill": {
     "duration": 0.03325,
     "end_time": "2023-03-15T11:48:07.870154",
     "exception": false,
     "start_time": "2023-03-15T11:48:07.836904",
     "status": "completed"
    },
    "tags": []
   },
   "outputs": [
    {
     "data": {
      "text/html": [
       "<div>\n",
       "<style scoped>\n",
       "    .dataframe tbody tr th:only-of-type {\n",
       "        vertical-align: middle;\n",
       "    }\n",
       "\n",
       "    .dataframe tbody tr th {\n",
       "        vertical-align: top;\n",
       "    }\n",
       "\n",
       "    .dataframe thead th {\n",
       "        text-align: right;\n",
       "    }\n",
       "</style>\n",
       "<table border=\"1\" class=\"dataframe\">\n",
       "  <thead>\n",
       "    <tr style=\"text-align: right;\">\n",
       "      <th></th>\n",
       "      <th>id</th>\n",
       "      <th>Destination</th>\n",
       "      <th>Feedback</th>\n",
       "      <th>Avg Rating</th>\n",
       "      <th>All in Hotels</th>\n",
       "      <th>Most Popular</th>\n",
       "    </tr>\n",
       "  </thead>\n",
       "  <tbody>\n",
       "    <tr>\n",
       "      <th>7</th>\n",
       "      <td>8.0</td>\n",
       "      <td>France</td>\n",
       "      <td>6.0</td>\n",
       "      <td>3.0</td>\n",
       "      <td>24.0</td>\n",
       "      <td>Nantes</td>\n",
       "    </tr>\n",
       "    <tr>\n",
       "      <th>2</th>\n",
       "      <td>3.0</td>\n",
       "      <td>Turkmenistan</td>\n",
       "      <td>7.0</td>\n",
       "      <td>3.0</td>\n",
       "      <td>9.0</td>\n",
       "      <td>Derweze</td>\n",
       "    </tr>\n",
       "    <tr>\n",
       "      <th>13</th>\n",
       "      <td>14.0</td>\n",
       "      <td>Oman</td>\n",
       "      <td>7.0</td>\n",
       "      <td>5.0</td>\n",
       "      <td>2.0</td>\n",
       "      <td>Bahla</td>\n",
       "    </tr>\n",
       "    <tr>\n",
       "      <th>14</th>\n",
       "      <td>15.0</td>\n",
       "      <td>United Kingdom</td>\n",
       "      <td>7.0</td>\n",
       "      <td>4.0</td>\n",
       "      <td>20.0</td>\n",
       "      <td>London</td>\n",
       "    </tr>\n",
       "    <tr>\n",
       "      <th>1</th>\n",
       "      <td>2.0</td>\n",
       "      <td>North Pole</td>\n",
       "      <td>8.0</td>\n",
       "      <td>4.0</td>\n",
       "      <td>6.0</td>\n",
       "      <td>Svalbard</td>\n",
       "    </tr>\n",
       "  </tbody>\n",
       "</table>\n",
       "</div>"
      ],
      "text/plain": [
       "      id     Destination  Feedback  Avg Rating  All in Hotels Most Popular\n",
       "7    8.0          France       6.0         3.0           24.0       Nantes\n",
       "2    3.0    Turkmenistan       7.0         3.0            9.0      Derweze\n",
       "13  14.0            Oman       7.0         5.0            2.0        Bahla\n",
       "14  15.0  United Kingdom       7.0         4.0           20.0       London\n",
       "1    2.0      North Pole       8.0         4.0            6.0     Svalbard"
      ]
     },
     "execution_count": 22,
     "metadata": {},
     "output_type": "execute_result"
    }
   ],
   "source": [
    "df.sort_values('Feedback').head() # sorting the table accoring to the col selected"
   ]
  },
  {
   "cell_type": "code",
   "execution_count": 23,
   "id": "933ca487",
   "metadata": {
    "execution": {
     "iopub.execute_input": "2023-03-15T11:48:07.898691Z",
     "iopub.status.busy": "2023-03-15T11:48:07.898281Z",
     "iopub.status.idle": "2023-03-15T11:48:07.914916Z",
     "shell.execute_reply": "2023-03-15T11:48:07.913626Z"
    },
    "papermill": {
     "duration": 0.034156,
     "end_time": "2023-03-15T11:48:07.917564",
     "exception": false,
     "start_time": "2023-03-15T11:48:07.883408",
     "status": "completed"
    },
    "tags": []
   },
   "outputs": [
    {
     "data": {
      "text/html": [
       "<div>\n",
       "<style scoped>\n",
       "    .dataframe tbody tr th:only-of-type {\n",
       "        vertical-align: middle;\n",
       "    }\n",
       "\n",
       "    .dataframe tbody tr th {\n",
       "        vertical-align: top;\n",
       "    }\n",
       "\n",
       "    .dataframe thead th {\n",
       "        text-align: right;\n",
       "    }\n",
       "</style>\n",
       "<table border=\"1\" class=\"dataframe\">\n",
       "  <thead>\n",
       "    <tr style=\"text-align: right;\">\n",
       "      <th></th>\n",
       "      <th>id</th>\n",
       "      <th>Destination</th>\n",
       "      <th>Feedback</th>\n",
       "      <th>Avg Rating</th>\n",
       "      <th>All in Hotels</th>\n",
       "      <th>Most Popular</th>\n",
       "    </tr>\n",
       "  </thead>\n",
       "  <tbody>\n",
       "    <tr>\n",
       "      <th>10</th>\n",
       "      <td>11.0</td>\n",
       "      <td>Japan</td>\n",
       "      <td>10.0</td>\n",
       "      <td>5.0</td>\n",
       "      <td>90.0</td>\n",
       "      <td>Beppu</td>\n",
       "    </tr>\n",
       "    <tr>\n",
       "      <th>0</th>\n",
       "      <td>1.0</td>\n",
       "      <td>New Zealand</td>\n",
       "      <td>9.0</td>\n",
       "      <td>4.0</td>\n",
       "      <td>5.0</td>\n",
       "      <td>Rotura</td>\n",
       "    </tr>\n",
       "    <tr>\n",
       "      <th>4</th>\n",
       "      <td>5.0</td>\n",
       "      <td>Austria</td>\n",
       "      <td>9.0</td>\n",
       "      <td>4.0</td>\n",
       "      <td>12.0</td>\n",
       "      <td>Hinterbruhl</td>\n",
       "    </tr>\n",
       "    <tr>\n",
       "      <th>6</th>\n",
       "      <td>7.0</td>\n",
       "      <td>Italy</td>\n",
       "      <td>9.0</td>\n",
       "      <td>5.0</td>\n",
       "      <td>76.0</td>\n",
       "      <td>Puglia</td>\n",
       "    </tr>\n",
       "    <tr>\n",
       "      <th>9</th>\n",
       "      <td>10.0</td>\n",
       "      <td>Indonesia</td>\n",
       "      <td>9.0</td>\n",
       "      <td>4.0</td>\n",
       "      <td>80.0</td>\n",
       "      <td>Aceh</td>\n",
       "    </tr>\n",
       "  </tbody>\n",
       "</table>\n",
       "</div>"
      ],
      "text/plain": [
       "      id  Destination  Feedback  Avg Rating  All in Hotels Most Popular\n",
       "10  11.0        Japan      10.0         5.0           90.0        Beppu\n",
       "0    1.0  New Zealand       9.0         4.0            5.0       Rotura\n",
       "4    5.0      Austria       9.0         4.0           12.0  Hinterbruhl\n",
       "6    7.0        Italy       9.0         5.0           76.0       Puglia\n",
       "9   10.0    Indonesia       9.0         4.0           80.0         Aceh"
      ]
     },
     "execution_count": 23,
     "metadata": {},
     "output_type": "execute_result"
    }
   ],
   "source": [
    "df.sort_values('Feedback', ascending = False).head() # sorting the table accoring to the col selected"
   ]
  },
  {
   "cell_type": "raw",
   "id": "33782218",
   "metadata": {
    "papermill": {
     "duration": 0.013152,
     "end_time": "2023-03-15T11:48:07.944738",
     "exception": false,
     "start_time": "2023-03-15T11:48:07.931586",
     "status": "completed"
    },
    "tags": []
   },
   "source": [
    "Sorting based on two columns:"
   ]
  },
  {
   "cell_type": "code",
   "execution_count": 24,
   "id": "bb15280e",
   "metadata": {
    "execution": {
     "iopub.execute_input": "2023-03-15T11:48:07.973939Z",
     "iopub.status.busy": "2023-03-15T11:48:07.973525Z",
     "iopub.status.idle": "2023-03-15T11:48:07.999703Z",
     "shell.execute_reply": "2023-03-15T11:48:07.998421Z"
    },
    "papermill": {
     "duration": 0.044237,
     "end_time": "2023-03-15T11:48:08.002425",
     "exception": false,
     "start_time": "2023-03-15T11:48:07.958188",
     "status": "completed"
    },
    "tags": []
   },
   "outputs": [
    {
     "data": {
      "text/html": [
       "<div>\n",
       "<style scoped>\n",
       "    .dataframe tbody tr th:only-of-type {\n",
       "        vertical-align: middle;\n",
       "    }\n",
       "\n",
       "    .dataframe tbody tr th {\n",
       "        vertical-align: top;\n",
       "    }\n",
       "\n",
       "    .dataframe thead th {\n",
       "        text-align: right;\n",
       "    }\n",
       "</style>\n",
       "<table border=\"1\" class=\"dataframe\">\n",
       "  <thead>\n",
       "    <tr style=\"text-align: right;\">\n",
       "      <th></th>\n",
       "      <th>id</th>\n",
       "      <th>Destination</th>\n",
       "      <th>Feedback</th>\n",
       "      <th>Avg Rating</th>\n",
       "      <th>All in Hotels</th>\n",
       "      <th>Most Popular</th>\n",
       "    </tr>\n",
       "  </thead>\n",
       "  <tbody>\n",
       "    <tr>\n",
       "      <th>4</th>\n",
       "      <td>5.0</td>\n",
       "      <td>Austria</td>\n",
       "      <td>9.0</td>\n",
       "      <td>4.0</td>\n",
       "      <td>12.0</td>\n",
       "      <td>Hinterbruhl</td>\n",
       "    </tr>\n",
       "    <tr>\n",
       "      <th>5</th>\n",
       "      <td>6.0</td>\n",
       "      <td>China</td>\n",
       "      <td>8.0</td>\n",
       "      <td>3.0</td>\n",
       "      <td>198.0</td>\n",
       "      <td>Xinjiang</td>\n",
       "    </tr>\n",
       "    <tr>\n",
       "      <th>7</th>\n",
       "      <td>8.0</td>\n",
       "      <td>France</td>\n",
       "      <td>6.0</td>\n",
       "      <td>3.0</td>\n",
       "      <td>24.0</td>\n",
       "      <td>Nantes</td>\n",
       "    </tr>\n",
       "    <tr>\n",
       "      <th>8</th>\n",
       "      <td>9.0</td>\n",
       "      <td>India</td>\n",
       "      <td>8.0</td>\n",
       "      <td>3.0</td>\n",
       "      <td>45.0</td>\n",
       "      <td>Ladakh</td>\n",
       "    </tr>\n",
       "    <tr>\n",
       "      <th>9</th>\n",
       "      <td>10.0</td>\n",
       "      <td>Indonesia</td>\n",
       "      <td>9.0</td>\n",
       "      <td>4.0</td>\n",
       "      <td>80.0</td>\n",
       "      <td>Aceh</td>\n",
       "    </tr>\n",
       "    <tr>\n",
       "      <th>6</th>\n",
       "      <td>7.0</td>\n",
       "      <td>Italy</td>\n",
       "      <td>9.0</td>\n",
       "      <td>5.0</td>\n",
       "      <td>76.0</td>\n",
       "      <td>Puglia</td>\n",
       "    </tr>\n",
       "    <tr>\n",
       "      <th>10</th>\n",
       "      <td>11.0</td>\n",
       "      <td>Japan</td>\n",
       "      <td>10.0</td>\n",
       "      <td>5.0</td>\n",
       "      <td>90.0</td>\n",
       "      <td>Beppu</td>\n",
       "    </tr>\n",
       "    <tr>\n",
       "      <th>0</th>\n",
       "      <td>1.0</td>\n",
       "      <td>New Zealand</td>\n",
       "      <td>9.0</td>\n",
       "      <td>4.0</td>\n",
       "      <td>5.0</td>\n",
       "      <td>Rotura</td>\n",
       "    </tr>\n",
       "    <tr>\n",
       "      <th>1</th>\n",
       "      <td>2.0</td>\n",
       "      <td>North Pole</td>\n",
       "      <td>8.0</td>\n",
       "      <td>4.0</td>\n",
       "      <td>6.0</td>\n",
       "      <td>Svalbard</td>\n",
       "    </tr>\n",
       "    <tr>\n",
       "      <th>13</th>\n",
       "      <td>14.0</td>\n",
       "      <td>Oman</td>\n",
       "      <td>7.0</td>\n",
       "      <td>5.0</td>\n",
       "      <td>2.0</td>\n",
       "      <td>Bahla</td>\n",
       "    </tr>\n",
       "    <tr>\n",
       "      <th>12</th>\n",
       "      <td>13.0</td>\n",
       "      <td>Palestine</td>\n",
       "      <td>9.0</td>\n",
       "      <td>3.0</td>\n",
       "      <td>5.0</td>\n",
       "      <td>Jerusalem</td>\n",
       "    </tr>\n",
       "    <tr>\n",
       "      <th>3</th>\n",
       "      <td>4.0</td>\n",
       "      <td>Russia</td>\n",
       "      <td>8.0</td>\n",
       "      <td>5.0</td>\n",
       "      <td>17.0</td>\n",
       "      <td>Yekaterinburg</td>\n",
       "    </tr>\n",
       "    <tr>\n",
       "      <th>11</th>\n",
       "      <td>12.0</td>\n",
       "      <td>Turkey</td>\n",
       "      <td>9.0</td>\n",
       "      <td>4.0</td>\n",
       "      <td>54.0</td>\n",
       "      <td>Faralya</td>\n",
       "    </tr>\n",
       "    <tr>\n",
       "      <th>2</th>\n",
       "      <td>3.0</td>\n",
       "      <td>Turkmenistan</td>\n",
       "      <td>7.0</td>\n",
       "      <td>3.0</td>\n",
       "      <td>9.0</td>\n",
       "      <td>Derweze</td>\n",
       "    </tr>\n",
       "    <tr>\n",
       "      <th>14</th>\n",
       "      <td>15.0</td>\n",
       "      <td>United Kingdom</td>\n",
       "      <td>7.0</td>\n",
       "      <td>4.0</td>\n",
       "      <td>20.0</td>\n",
       "      <td>London</td>\n",
       "    </tr>\n",
       "    <tr>\n",
       "      <th>15</th>\n",
       "      <td>NaN</td>\n",
       "      <td>NaN</td>\n",
       "      <td>NaN</td>\n",
       "      <td>NaN</td>\n",
       "      <td>NaN</td>\n",
       "      <td>NaN</td>\n",
       "    </tr>\n",
       "    <tr>\n",
       "      <th>16</th>\n",
       "      <td>NaN</td>\n",
       "      <td>NaN</td>\n",
       "      <td>NaN</td>\n",
       "      <td>NaN</td>\n",
       "      <td>NaN</td>\n",
       "      <td>NaN</td>\n",
       "    </tr>\n",
       "  </tbody>\n",
       "</table>\n",
       "</div>"
      ],
      "text/plain": [
       "      id     Destination  Feedback  Avg Rating  All in Hotels   Most Popular\n",
       "4    5.0         Austria       9.0         4.0           12.0    Hinterbruhl\n",
       "5    6.0           China       8.0         3.0          198.0       Xinjiang\n",
       "7    8.0          France       6.0         3.0           24.0         Nantes\n",
       "8    9.0           India       8.0         3.0           45.0         Ladakh\n",
       "9   10.0       Indonesia       9.0         4.0           80.0           Aceh\n",
       "6    7.0           Italy       9.0         5.0           76.0         Puglia\n",
       "10  11.0           Japan      10.0         5.0           90.0          Beppu\n",
       "0    1.0     New Zealand       9.0         4.0            5.0         Rotura\n",
       "1    2.0      North Pole       8.0         4.0            6.0       Svalbard\n",
       "13  14.0            Oman       7.0         5.0            2.0          Bahla\n",
       "12  13.0       Palestine       9.0         3.0            5.0      Jerusalem\n",
       "3    4.0          Russia       8.0         5.0           17.0  Yekaterinburg\n",
       "11  12.0          Turkey       9.0         4.0           54.0        Faralya\n",
       "2    3.0    Turkmenistan       7.0         3.0            9.0        Derweze\n",
       "14  15.0  United Kingdom       7.0         4.0           20.0         London\n",
       "15   NaN             NaN       NaN         NaN            NaN            NaN\n",
       "16   NaN             NaN       NaN         NaN            NaN            NaN"
      ]
     },
     "execution_count": 24,
     "metadata": {},
     "output_type": "execute_result"
    }
   ],
   "source": [
    "df.sort_values(['Destination', 'Avg Rating'], ascending = [True, False])\n",
    "# First, sort Destination col in ascending format, A- Z\n",
    "# Second, sort Avg Rating col in descending format"
   ]
  },
  {
   "cell_type": "markdown",
   "id": "e9c3091f",
   "metadata": {
    "papermill": {
     "duration": 0.01399,
     "end_time": "2023-03-15T11:48:08.030395",
     "exception": false,
     "start_time": "2023-03-15T11:48:08.016405",
     "status": "completed"
    },
    "tags": []
   },
   "source": [
    "Show number of biggest amount of hotel available in a country."
   ]
  },
  {
   "cell_type": "code",
   "execution_count": 25,
   "id": "034d2a7c",
   "metadata": {
    "execution": {
     "iopub.execute_input": "2023-03-15T11:48:08.061534Z",
     "iopub.status.busy": "2023-03-15T11:48:08.060310Z",
     "iopub.status.idle": "2023-03-15T11:48:08.069076Z",
     "shell.execute_reply": "2023-03-15T11:48:08.067877Z"
    },
    "papermill": {
     "duration": 0.027274,
     "end_time": "2023-03-15T11:48:08.071684",
     "exception": false,
     "start_time": "2023-03-15T11:48:08.044410",
     "status": "completed"
    },
    "tags": []
   },
   "outputs": [
    {
     "data": {
      "text/plain": [
       "198.0"
      ]
     },
     "execution_count": 25,
     "metadata": {},
     "output_type": "execute_result"
    }
   ],
   "source": [
    "df['All in Hotels'].max()"
   ]
  },
  {
   "cell_type": "markdown",
   "id": "19b97d41",
   "metadata": {
    "papermill": {
     "duration": 0.013402,
     "end_time": "2023-03-15T11:48:08.099306",
     "exception": false,
     "start_time": "2023-03-15T11:48:08.085904",
     "status": "completed"
    },
    "tags": []
   },
   "source": [
    "Show the highest feedback numbers we receive in a county:"
   ]
  },
  {
   "cell_type": "code",
   "execution_count": 26,
   "id": "7c9d4527",
   "metadata": {
    "execution": {
     "iopub.execute_input": "2023-03-15T11:48:08.129075Z",
     "iopub.status.busy": "2023-03-15T11:48:08.128343Z",
     "iopub.status.idle": "2023-03-15T11:48:08.135866Z",
     "shell.execute_reply": "2023-03-15T11:48:08.134836Z"
    },
    "papermill": {
     "duration": 0.025117,
     "end_time": "2023-03-15T11:48:08.138148",
     "exception": false,
     "start_time": "2023-03-15T11:48:08.113031",
     "status": "completed"
    },
    "tags": []
   },
   "outputs": [
    {
     "data": {
      "text/plain": [
       "10.0"
      ]
     },
     "execution_count": 26,
     "metadata": {},
     "output_type": "execute_result"
    }
   ],
   "source": [
    "df['Feedback'].max()"
   ]
  },
  {
   "cell_type": "markdown",
   "id": "35fc3b11",
   "metadata": {
    "papermill": {
     "duration": 0.013464,
     "end_time": "2023-03-15T11:48:08.165395",
     "exception": false,
     "start_time": "2023-03-15T11:48:08.151931",
     "status": "completed"
    },
    "tags": []
   },
   "source": [
    "Which destination has more than 4 stars average ratings?"
   ]
  },
  {
   "cell_type": "code",
   "execution_count": 27,
   "id": "99de5c81",
   "metadata": {
    "execution": {
     "iopub.execute_input": "2023-03-15T11:48:08.195695Z",
     "iopub.status.busy": "2023-03-15T11:48:08.194977Z",
     "iopub.status.idle": "2023-03-15T11:48:08.201499Z",
     "shell.execute_reply": "2023-03-15T11:48:08.200332Z"
    },
    "papermill": {
     "duration": 0.024782,
     "end_time": "2023-03-15T11:48:08.203982",
     "exception": false,
     "start_time": "2023-03-15T11:48:08.179200",
     "status": "completed"
    },
    "tags": []
   },
   "outputs": [],
   "source": [
    "df_filter = df[df['Avg Rating'] > 3] # accsessing the col which as more than 3 rating\n",
    "destinations = df_filter['Destination'] # displaying necessary cols"
   ]
  },
  {
   "cell_type": "code",
   "execution_count": 28,
   "id": "16ee0db1",
   "metadata": {
    "execution": {
     "iopub.execute_input": "2023-03-15T11:48:08.233988Z",
     "iopub.status.busy": "2023-03-15T11:48:08.233173Z",
     "iopub.status.idle": "2023-03-15T11:48:08.241896Z",
     "shell.execute_reply": "2023-03-15T11:48:08.240649Z"
    },
    "papermill": {
     "duration": 0.026698,
     "end_time": "2023-03-15T11:48:08.244507",
     "exception": false,
     "start_time": "2023-03-15T11:48:08.217809",
     "status": "completed"
    },
    "tags": []
   },
   "outputs": [
    {
     "data": {
      "text/plain": [
       "0        New Zealand\n",
       "1         North Pole\n",
       "3             Russia\n",
       "4            Austria\n",
       "6              Italy\n",
       "9          Indonesia\n",
       "10             Japan\n",
       "11            Turkey\n",
       "13              Oman\n",
       "14    United Kingdom\n",
       "Name: Destination, dtype: object"
      ]
     },
     "execution_count": 28,
     "metadata": {},
     "output_type": "execute_result"
    }
   ],
   "source": [
    "destinations"
   ]
  },
  {
   "cell_type": "markdown",
   "id": "1d981f24",
   "metadata": {
    "papermill": {
     "duration": 0.01364,
     "end_time": "2023-03-15T11:48:08.272215",
     "exception": false,
     "start_time": "2023-03-15T11:48:08.258575",
     "status": "completed"
    },
    "tags": []
   },
   "source": [
    "Exercise : Display destinations which has more than 7 feedbacks."
   ]
  },
  {
   "cell_type": "code",
   "execution_count": 29,
   "id": "9a3daf66",
   "metadata": {
    "execution": {
     "iopub.execute_input": "2023-03-15T11:48:08.302605Z",
     "iopub.status.busy": "2023-03-15T11:48:08.301871Z",
     "iopub.status.idle": "2023-03-15T11:48:08.307879Z",
     "shell.execute_reply": "2023-03-15T11:48:08.306585Z"
    },
    "papermill": {
     "duration": 0.02408,
     "end_time": "2023-03-15T11:48:08.310286",
     "exception": false,
     "start_time": "2023-03-15T11:48:08.286206",
     "status": "completed"
    },
    "tags": []
   },
   "outputs": [],
   "source": [
    "df_filter = df[df['Feedback'] > 3] # accsessing the col which as more than 3 rating\n",
    "destinations = df_filter['Destination'] # displaying necessary cols"
   ]
  },
  {
   "cell_type": "code",
   "execution_count": 30,
   "id": "b7949dbf",
   "metadata": {
    "execution": {
     "iopub.execute_input": "2023-03-15T11:48:08.339991Z",
     "iopub.status.busy": "2023-03-15T11:48:08.339548Z",
     "iopub.status.idle": "2023-03-15T11:48:08.347481Z",
     "shell.execute_reply": "2023-03-15T11:48:08.346369Z"
    },
    "papermill": {
     "duration": 0.025773,
     "end_time": "2023-03-15T11:48:08.350061",
     "exception": false,
     "start_time": "2023-03-15T11:48:08.324288",
     "status": "completed"
    },
    "tags": []
   },
   "outputs": [
    {
     "data": {
      "text/plain": [
       "0        New Zealand\n",
       "1         North Pole\n",
       "2       Turkmenistan\n",
       "3             Russia\n",
       "4            Austria\n",
       "5              China\n",
       "6              Italy\n",
       "7             France\n",
       "8              India\n",
       "9          Indonesia\n",
       "10             Japan\n",
       "11            Turkey\n",
       "12         Palestine\n",
       "13              Oman\n",
       "14    United Kingdom\n",
       "Name: Destination, dtype: object"
      ]
     },
     "execution_count": 30,
     "metadata": {},
     "output_type": "execute_result"
    }
   ],
   "source": [
    "destinations"
   ]
  },
  {
   "cell_type": "markdown",
   "id": "a95875bc",
   "metadata": {
    "papermill": {
     "duration": 0.014502,
     "end_time": "2023-03-15T11:48:08.378885",
     "exception": false,
     "start_time": "2023-03-15T11:48:08.364383",
     "status": "completed"
    },
    "tags": []
   },
   "source": [
    "**End of excercise, well done!**"
   ]
  }
 ],
 "metadata": {
  "kernelspec": {
   "display_name": "Python 3",
   "language": "python",
   "name": "python3"
  },
  "language_info": {
   "codemirror_mode": {
    "name": "ipython",
    "version": 3
   },
   "file_extension": ".py",
   "mimetype": "text/x-python",
   "name": "python",
   "nbconvert_exporter": "python",
   "pygments_lexer": "ipython3",
   "version": "3.7.12"
  },
  "papermill": {
   "default_parameters": {},
   "duration": 13.052163,
   "end_time": "2023-03-15T11:48:09.119495",
   "environment_variables": {},
   "exception": null,
   "input_path": "__notebook__.ipynb",
   "output_path": "__notebook__.ipynb",
   "parameters": {},
   "start_time": "2023-03-15T11:47:56.067332",
   "version": "2.4.0"
  }
 },
 "nbformat": 4,
 "nbformat_minor": 5
}
